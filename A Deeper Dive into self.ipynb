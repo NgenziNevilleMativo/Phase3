{
 "cells": [
  {
   "cell_type": "markdown",
   "metadata": {},
   "source": [
    "A Deeper Dive into self"
   ]
  },
  {
   "cell_type": "markdown",
   "metadata": {},
   "source": [
    "Using self to Define Instance Methods"
   ]
  },
  {
   "cell_type": "code",
   "execution_count": 2,
   "metadata": {},
   "outputs": [],
   "source": [
    "class Person:\n",
    "    \n",
    "    def say_hello(self):\n",
    "        return 'Hi, how are you?'\n",
    "        \n",
    "    def eat_breakfast(self):\n",
    "        self.hungry = False\n",
    "        return 'Yum that was delish!'\n"
   ]
  },
  {
   "cell_type": "markdown",
   "metadata": {},
   "source": [
    "Self is used as the first parameter in both instance methods say_hello and eat_breakfast.\n",
    "\n",
    "self represents the instance object itself, allowing the methods to operate on and access attributes of the instance.\n",
    "\n",
    "In the eat_breakfast method, self.hungry = False demonstrates how self is used to modify an attribute of the instance."
   ]
  },
  {
   "cell_type": "markdown",
   "metadata": {},
   "source": [
    "Operating on self:"
   ]
  },
  {
   "cell_type": "code",
   "execution_count": 3,
   "metadata": {},
   "outputs": [],
   "source": [
    "class Person:\n",
    "    \n",
    "    def introduce(self):\n",
    "        return f'Hi, my name is {self.name}. It is a pleasure to meet you!'\n",
    "    \n",
    "    def say_hello(self):\n",
    "        return 'Hi, how are you?'\n",
    "        \n",
    "    def eat_breakfast(self):\n",
    "        self.hungry = False\n",
    "        return 'Yum that was delish!'\n"
   ]
  },
  {
   "cell_type": "markdown",
   "metadata": {},
   "source": [
    "self is used within instance methods to access attributes of the instance, such as self.name.\n",
    "\n",
    "Each instance of the Person class can have its own attributes, which can be accessed and modified using self."
   ]
  },
  {
   "cell_type": "markdown",
   "metadata": {},
   "source": [
    "Calling Instance Methods on self:"
   ]
  },
  {
   "cell_type": "code",
   "execution_count": 4,
   "metadata": {},
   "outputs": [],
   "source": [
    "class Person:\n",
    "    \n",
    "    def happy_birthday(self):\n",
    "        self.age += 1\n",
    "        return f\"Happy Birthday to {self.name} (aka ME)! Can't believe I'm {self.age}!?\"\n",
    "    \n",
    "    def eat_sandwich(self):\n",
    "        if self.hungry:\n",
    "            self.relieve_hunger()\n",
    "            return \"Wow, that really hit the spot! I am so full, but more importantly, I'm not hangry anymore!\"\n",
    "        else:\n",
    "            return \"Oh, I don't think I can eat another bite. Thank you, though!\"\n",
    "    \n",
    "    def relieve_hunger(self):\n",
    "        print(\"Hunger is being relieved\")\n",
    "        self.hungry = False\n"
   ]
  },
  {
   "cell_type": "code",
   "execution_count": 1,
   "metadata": {},
   "outputs": [
    {
     "name": "stdout",
     "output_type": "stream",
     "text": [
      "1.  Hi, my name is Gail. It is a pleasure to meet you!\n",
      "2.  Hi, my name is the Snail. It is a pleasure to meet you!\n",
      "3.  Hi, my name is Gail! What wildly overcast weather we're having, right?!\n",
      "4.  Hi, my name is the Snail! What wildly sunny weather we're having, right?!\n"
     ]
    }
   ],
   "source": [
    "class Person():\n",
    "    \n",
    "    def introduce(self):\n",
    "        return f'Hi, my name is {self.name}. It is a pleasure to meet you!'\n",
    "    \n",
    "    def say_hello(self):\n",
    "        return 'Hi, how are you?'\n",
    "        \n",
    "    def eat_breakfast(self):\n",
    "        self.hungry = False\n",
    "        return 'Yum that was delish!'\n",
    "    \n",
    "    def say_hello_and_weather(self, weather_pattern):\n",
    "        return f\"Hi, my name is {self.name}! What wildly {weather_pattern} weather we're having, right?!\"\n",
    "        \n",
    "gail = Person()\n",
    "gail.name = 'Gail'\n",
    "the_snail = Person()\n",
    "the_snail.name = 'the Snail'\n",
    "print('1. ', gail.introduce())\n",
    "print('2. ', the_snail.introduce())\n",
    "print('3. ', gail.say_hello_and_weather('overcast'))\n",
    "print('4. ', the_snail.say_hello_and_weather('sunny'))\n"
   ]
  },
  {
   "cell_type": "code",
   "execution_count": null,
   "metadata": {},
   "outputs": [],
   "source": []
  }
 ],
 "metadata": {
  "kernelspec": {
   "display_name": "Python 3",
   "language": "python",
   "name": "python3"
  },
  "language_info": {
   "codemirror_mode": {
    "name": "ipython",
    "version": 3
   },
   "file_extension": ".py",
   "mimetype": "text/x-python",
   "name": "python",
   "nbconvert_exporter": "python",
   "pygments_lexer": "ipython3",
   "version": "3.11.2"
  }
 },
 "nbformat": 4,
 "nbformat_minor": 2
}
