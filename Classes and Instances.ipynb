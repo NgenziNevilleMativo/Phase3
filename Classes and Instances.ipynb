{
 "cells": [
  {
   "cell_type": "markdown",
   "metadata": {},
   "source": [
    "Class: \n",
    "\n",
    "A class in Python is like a blueprint for creating objects. It defines a set of attributes that will characterize any object that is instantiated from this class. You can think of a class as a sketch (prototype) of a house. It contains all the details about the floors, doors, windows, etc. Based on these descriptions we build the house. House is the object.\n",
    "\n",
    "\n",
    "Instance: \n",
    "\n",
    "An instance is an individual object of a certain class. An object obj that belongs to a class Circle, for example, is an instance of the class Circle."
   ]
  },
  {
   "cell_type": "code",
   "execution_count": 1,
   "metadata": {},
   "outputs": [
    {
     "name": "stdout",
     "output_type": "stream",
     "text": [
      "red\n",
      "Toyota\n"
     ]
    }
   ],
   "source": [
    "# Car is the class, and my_car is an instance of the class Car. The Car class has two attributes: color and brand. \n",
    "# The my_car instance was created with the color ‘red’ and the brand ‘Toyota’.\n",
    " \n",
    "\n",
    "# Define the class\n",
    "class Car:\n",
    "    def __init__(self, color, brand):\n",
    "        self.color = color\n",
    "        self.brand = brand\n",
    "\n",
    "# Create an instance of the class\n",
    "my_car = Car('red', 'Toyota')\n",
    "\n",
    "# Now my_car is an instance of Car\n",
    "print(my_car.color)  # Output: red\n",
    "print(my_car.brand)  # Output: Toyota\n"
   ]
  },
  {
   "cell_type": "markdown",
   "metadata": {},
   "source": [
    "Defining a Class:\n",
    "\n",
    "You define a class in Python using the class keyword followed by the class name, and then a colon (:). \n",
    "All the code belonging to the class should be indented.\n",
    "\n",
    "Instantiating a Class:\n",
    "\n",
    "To create an instance of a class, you call the class name followed by parentheses (). This is similar to calling a function."
   ]
  },
  {
   "cell_type": "code",
   "execution_count": 10,
   "metadata": {},
   "outputs": [
    {
     "name": "stdout",
     "output_type": "stream",
     "text": [
      "<class '__main__.Ride_test'>\n",
      "<__main__.Ride_test object at 0x00000207719A6F90>\n",
      "<__main__.Ride_test object at 0x00000207719A6A10>\n",
      "<__main__.Ride_test object at 0x00000207719A5350>\n"
     ]
    }
   ],
   "source": [
    "class Ride_test:\n",
    "    pass  # This is a placeholder since we're not defining any attributes or methods yet\n",
    "\n",
    "# Now that the class is fully defined, we can create an instance\n",
    "first_ride = Ride_test()\n",
    "second_ride = Ride_test()\n",
    "third_ride = Ride_test()\n",
    "\n",
    "print(Ride_test)\n",
    "print(first_ride)\n",
    "print(second_ride)\n",
    "print(third_ride)"
   ]
  },
  {
   "cell_type": "markdown",
   "metadata": {},
   "source": [
    "Attributes and Methods:\n",
    "\n",
    "Attributes: \n",
    "\n",
    "Attributes are the data variables associated with a class. They represent the characteristics or properties of objects created from the class. In the context of the ride share business, attributes could include driver, passengers, origin, destination, etc.\n",
    "\n",
    "Methods: \n",
    "\n",
    "Methods are functions defined within a class that operate on objects created from that class. They can perform operations on the attributes of the class. For example, a start_ride() method could begin a ride, and an end_ride() method could finish it."
   ]
  },
  {
   "cell_type": "code",
   "execution_count": 11,
   "metadata": {},
   "outputs": [
    {
     "name": "stdout",
     "output_type": "stream",
     "text": [
      "False\n",
      "False\n",
      "True\n"
     ]
    }
   ],
   "source": [
    "print(first_ride is second_ride)\n",
    "print(first_ride == second_ride)\n",
    "print(first_ride is first_ride)"
   ]
  },
  {
   "cell_type": "code",
   "execution_count": 15,
   "metadata": {},
   "outputs": [
    {
     "name": "stdout",
     "output_type": "stream",
     "text": [
      "Driver: John Doe, Passengers: 4, Origin: Nairobi, Destination: Mombasa, Car Info: Toyota Prius, Price: 500\n"
     ]
    }
   ],
   "source": [
    "# Define a class named 'Ride'\n",
    "class Ride:\n",
    "    # The __init__ method is a special method that is automatically called when an object of a class is instantiated.\n",
    "    # It initializes the attributes of the class.\n",
    "    def __init__(self, driver, passengers, origin, destination, car_info, price):\n",
    "        self.driver = driver  # driver attribute\n",
    "        self.passengers = passengers  # passengers attribute\n",
    "        self.origin = origin  # origin attribute\n",
    "        self.destination = destination  # destination attribute\n",
    "        self.car_info = car_info  # car_info attribute\n",
    "        self.price = price  # price attribute\n",
    "\n",
    "    # This is an instance method that returns a formatted string containing all the information about the ride.\n",
    "    def get_info(self):\n",
    "        return f\"Driver: {self.driver}, Passengers: {self.passengers}, Origin: {self.origin}, Destination: {self.destination}, Car Info: {self.car_info}, Price: {self.price}\"\n",
    "\n",
    "# Create an instance of the Ride class\n",
    "ride1 = Ride('John Doe', 4, 'Nairobi', 'Mombasa', 'Toyota Prius', 500)\n",
    "\n",
    "# Print the information of the ride1 instance using the get_info method\n",
    "print(ride1.get_info())\n"
   ]
  },
  {
   "cell_type": "code",
   "execution_count": null,
   "metadata": {},
   "outputs": [],
   "source": []
  }
 ],
 "metadata": {
  "kernelspec": {
   "display_name": "Python 3",
   "language": "python",
   "name": "python3"
  },
  "language_info": {
   "codemirror_mode": {
    "name": "ipython",
    "version": 3
   },
   "file_extension": ".py",
   "mimetype": "text/x-python",
   "name": "python",
   "nbconvert_exporter": "python",
   "pygments_lexer": "ipython3",
   "version": "3.11.2"
  }
 },
 "nbformat": 4,
 "nbformat_minor": 2
}
