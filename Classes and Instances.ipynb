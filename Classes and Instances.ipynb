{
 "cells": [
  {
   "cell_type": "markdown",
   "metadata": {},
   "source": [
    "Class: \n",
    "\n",
    "A class in Python is like a blueprint for creating objects. It defines a set of attributes that will characterize any object that is instantiated from this class. You can think of a class as a sketch (prototype) of a house. It contains all the details about the floors, doors, windows, etc. Based on these descriptions we build the house. House is the object.\n",
    "\n",
    "\n",
    "Instance: \n",
    "\n",
    "An instance is an individual object of a certain class. An object obj that belongs to a class Circle, for example, is an instance of the class Circle."
   ]
  },
  {
   "cell_type": "code",
   "execution_count": 23,
   "metadata": {},
   "outputs": [
    {
     "name": "stdout",
     "output_type": "stream",
     "text": [
      "red\n",
      "Toyota\n"
     ]
    }
   ],
   "source": [
    "# Car is the class, and my_car is an instance of the class Car. The Car class has two attributes: color and brand. \n",
    "# The my_car instance was created with the color ‘red’ and the brand ‘Toyota’.\n",
    " \n",
    "\n",
    "# Define the class\n",
    "class Car:\n",
    "    def __init__(self, color, brand):\n",
    "        self.color = color\n",
    "        self.brand = brand\n",
    "\n",
    "# Create an instance of the class\n",
    "my_car = Car('red', 'Toyota')\n",
    "\n",
    "# Now my_car is an instance of Car\n",
    "print(my_car.color)  # Output: red\n",
    "print(my_car.brand)  # Output: Toyota\n"
   ]
  },
  {
   "cell_type": "markdown",
   "metadata": {},
   "source": [
    "Defining a Class:\n",
    "\n",
    "You define a class in Python using the class keyword followed by the class name, and then a colon (:). \n",
    "All the code belonging to the class should be indented.\n",
    "\n",
    "Instantiating a Class:\n",
    "\n",
    "To create an instance of a class, you call the class name followed by parentheses (). This is similar to calling a function."
   ]
  },
  {
   "cell_type": "code",
   "execution_count": 24,
   "metadata": {},
   "outputs": [
    {
     "name": "stdout",
     "output_type": "stream",
     "text": [
      "<class '__main__.Ride_test'>\n",
      "<__main__.Ride_test object at 0x0000020771A40810>\n",
      "<__main__.Ride_test object at 0x0000020771A425D0>\n",
      "<__main__.Ride_test object at 0x00000207719A6A10>\n"
     ]
    }
   ],
   "source": [
    "class Ride_test:\n",
    "    pass  # This is a placeholder since we're not defining any attributes or methods yet\n",
    "\n",
    "# Now that the class is fully defined, we can create an instance\n",
    "first_ride = Ride_test()\n",
    "second_ride = Ride_test()\n",
    "third_ride = Ride_test()\n",
    "\n",
    "print(Ride_test)\n",
    "print(first_ride)\n",
    "print(second_ride)\n",
    "print(third_ride)"
   ]
  },
  {
   "cell_type": "markdown",
   "metadata": {},
   "source": [
    "Attributes and Methods:\n",
    "\n",
    "Attributes: \n",
    "\n",
    "Attributes are the data variables associated with a class. They represent the characteristics or properties of objects created from the class. In the context of the ride share business, attributes could include driver, passengers, origin, destination, etc.\n",
    "\n",
    "Methods: \n",
    "\n",
    "Methods are functions defined within a class that operate on objects created from that class. They can perform operations on the attributes of the class. For example, a start_ride() method could begin a ride, and an end_ride() method could finish it."
   ]
  },
  {
   "cell_type": "code",
   "execution_count": 25,
   "metadata": {},
   "outputs": [
    {
     "name": "stdout",
     "output_type": "stream",
     "text": [
      "False\n",
      "False\n",
      "True\n"
     ]
    }
   ],
   "source": [
    "print(first_ride is second_ride)\n",
    "print(first_ride == second_ride)\n",
    "print(first_ride is first_ride)"
   ]
  },
  {
   "cell_type": "code",
   "execution_count": 26,
   "metadata": {},
   "outputs": [
    {
     "name": "stdout",
     "output_type": "stream",
     "text": [
      "Driver: John Doe, Passengers: 4, Origin: Nairobi, Destination: Mombasa, Car Info: Toyota Prius, Price: 500\n"
     ]
    }
   ],
   "source": [
    "# Define a class named 'Ride'\n",
    "class Ride:\n",
    "    # The __init__ method is a special method that is automatically called when an object of a class is instantiated.\n",
    "    # It initializes the attributes of the class.\n",
    "    def __init__(self, driver, passengers, origin, destination, car_info, price):\n",
    "        self.driver = driver  # driver attribute\n",
    "        self.passengers = passengers  # passengers attribute\n",
    "        self.origin = origin  # origin attribute\n",
    "        self.destination = destination  # destination attribute\n",
    "        self.car_info = car_info  # car_info attribute\n",
    "        self.price = price  # price attribute\n",
    "\n",
    "    # This is an instance method that returns a formatted string containing all the information about the ride.\n",
    "    def get_info(self):\n",
    "        return f\"Driver: {self.driver}, Passengers: {self.passengers}, Origin: {self.origin}, Destination: {self.destination}, Car Info: {self.car_info}, Price: {self.price}\"\n",
    "\n",
    "# Create an instance of the Ride class\n",
    "ride1 = Ride('John Doe', 4, 'Nairobi', 'Mombasa', 'Toyota Prius', 500)\n",
    "\n",
    "# Print the information of the ride1 instance using the get_info method\n",
    "print(ride1.get_info())\n"
   ]
  },
  {
   "cell_type": "markdown",
   "metadata": {},
   "source": [
    "Classes and Instances - Lab"
   ]
  },
  {
   "cell_type": "code",
   "execution_count": 29,
   "metadata": {},
   "outputs": [
    {
     "ename": "ModuleNotFoundError",
     "evalue": "No module named 'ride'",
     "output_type": "error",
     "traceback": [
      "\u001b[1;31m---------------------------------------------------------------------------\u001b[0m",
      "\u001b[1;31mModuleNotFoundError\u001b[0m                       Traceback (most recent call last)",
      "Cell \u001b[1;32mIn[29], line 2\u001b[0m\n\u001b[0;32m      1\u001b[0m \u001b[38;5;66;03m# import the entire file\u001b[39;00m\n\u001b[1;32m----> 2\u001b[0m \u001b[38;5;28;01mimport\u001b[39;00m \u001b[38;5;21;01mride\u001b[39;00m\n\u001b[0;32m      4\u001b[0m \u001b[38;5;66;03m# import only the ride class\u001b[39;00m\n\u001b[0;32m      5\u001b[0m \u001b[38;5;28;01mfrom\u001b[39;00m \u001b[38;5;21;01mride\u001b[39;00m \u001b[38;5;28;01mimport\u001b[39;00m Ride\n",
      "\u001b[1;31mModuleNotFoundError\u001b[0m: No module named 'ride'"
     ]
    }
   ],
   "source": [
    "# import the entire file\n",
    "import ride\n",
    "    \n",
    "# import only the ride class\n",
    "from ride import Ride\n",
    "\n",
    "# import only the driver classs\n",
    "from driver import Driver\n",
    "\n",
    "# Create a passenger class\n",
    "class Passenger:\n",
    "    pass"
   ]
  },
  {
   "cell_type": "code",
   "execution_count": null,
   "metadata": {},
   "outputs": [
    {
     "ename": "NameError",
     "evalue": "name 'Passenger' is not defined",
     "output_type": "error",
     "traceback": [
      "\u001b[1;31m---------------------------------------------------------------------------\u001b[0m",
      "\u001b[1;31mNameError\u001b[0m                                 Traceback (most recent call last)",
      "Cell \u001b[1;32mIn[20], line 2\u001b[0m\n\u001b[0;32m      1\u001b[0m \u001b[38;5;66;03m# Two instances of the Passenger class\u001b[39;00m\n\u001b[1;32m----> 2\u001b[0m meryl \u001b[38;5;241m=\u001b[39m \u001b[43mPassenger\u001b[49m()\n\u001b[0;32m      3\u001b[0m daniel \u001b[38;5;241m=\u001b[39m Passenger()\n\u001b[0;32m      5\u001b[0m \u001b[38;5;28mprint\u001b[39m(meryl)\n",
      "\u001b[1;31mNameError\u001b[0m: name 'Passenger' is not defined"
     ]
    }
   ],
   "source": [
    "# Two instances of the Passenger class\n",
    "meryl = Passenger()\n",
    "daniel = Passenger()\n",
    "\n",
    "print(meryl)\n",
    "print(daniel)"
   ]
  },
  {
   "cell_type": "code",
   "execution_count": null,
   "metadata": {},
   "outputs": [
    {
     "ename": "NameError",
     "evalue": "name 'Driver' is not defined",
     "output_type": "error",
     "traceback": [
      "\u001b[1;31m---------------------------------------------------------------------------\u001b[0m",
      "\u001b[1;31mNameError\u001b[0m                                 Traceback (most recent call last)",
      "Cell \u001b[1;32mIn[21], line 2\u001b[0m\n\u001b[0;32m      1\u001b[0m \u001b[38;5;66;03m# One instance of the Driver class\u001b[39;00m\n\u001b[1;32m----> 2\u001b[0m flatiron_taxi \u001b[38;5;241m=\u001b[39m \u001b[43mDriver\u001b[49m()\n\u001b[0;32m      3\u001b[0m \u001b[38;5;28mprint\u001b[39m(flatiron_taxi)\n",
      "\u001b[1;31mNameError\u001b[0m: name 'Driver' is not defined"
     ]
    }
   ],
   "source": [
    "# One instance of the Driver class\n",
    "flatiron_taxi = Driver()\n",
    "print(flatiron_taxi)"
   ]
  },
  {
   "cell_type": "code",
   "execution_count": null,
   "metadata": {},
   "outputs": [
    {
     "ename": "TypeError",
     "evalue": "Ride.__init__() missing 6 required positional arguments: 'driver', 'passengers', 'origin', 'destination', 'car_info', and 'price'",
     "output_type": "error",
     "traceback": [
      "\u001b[1;31m---------------------------------------------------------------------------\u001b[0m",
      "\u001b[1;31mTypeError\u001b[0m                                 Traceback (most recent call last)",
      "Cell \u001b[1;32mIn[22], line 2\u001b[0m\n\u001b[0;32m      1\u001b[0m \u001b[38;5;66;03m# Two instances of the Ride class\u001b[39;00m\n\u001b[1;32m----> 2\u001b[0m ride_to_school \u001b[38;5;241m=\u001b[39m \u001b[43mRide\u001b[49m\u001b[43m(\u001b[49m\u001b[43m)\u001b[49m\n\u001b[0;32m      3\u001b[0m ride_home \u001b[38;5;241m=\u001b[39m Ride()\n\u001b[0;32m      5\u001b[0m \u001b[38;5;28mprint\u001b[39m(ride_to_school)\n",
      "\u001b[1;31mTypeError\u001b[0m: Ride.__init__() missing 6 required positional arguments: 'driver', 'passengers', 'origin', 'destination', 'car_info', and 'price'"
     ]
    }
   ],
   "source": [
    "# Two instances of the Ride class\n",
    "ride_to_school = Ride()\n",
    "ride_home = Ride()\n",
    "\n",
    "print(ride_to_school)\n",
    "print(ride_home)"
   ]
  },
  {
   "cell_type": "code",
   "execution_count": null,
   "metadata": {},
   "outputs": [],
   "source": []
  }
 ],
 "metadata": {
  "kernelspec": {
   "display_name": "Python 3",
   "language": "python",
   "name": "python3"
  },
  "language_info": {
   "codemirror_mode": {
    "name": "ipython",
    "version": 3
   },
   "file_extension": ".py",
   "mimetype": "text/x-python",
   "name": "python",
   "nbconvert_exporter": "python",
   "pygments_lexer": "ipython3",
   "version": "3.11.2"
  }
 },
 "nbformat": 4,
 "nbformat_minor": 2
}
