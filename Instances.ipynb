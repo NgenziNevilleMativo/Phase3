{
 "cells": [
  {
   "cell_type": "markdown",
   "metadata": {},
   "source": [
    "Instance Methods"
   ]
  },
  {
   "cell_type": "markdown",
   "metadata": {},
   "source": [
    "Instance Methods vs. Attributes:\n",
    "\n",
    "Instance Method: \n",
    "\n",
    "An instance method is a function defined inside a class that operates on instances of that class. It is callable and typically performs operations related to the instance's data.\n",
    "\n",
    "Attribute: \n",
    "\n",
    "An attribute is a piece of data associated with an instance of a class. It can be of any data type, including integers, strings, lists, or even other objects. Attributes define the state of an object."
   ]
  },
  {
   "cell_type": "markdown",
   "metadata": {},
   "source": [
    "Defining and Calling Instance Methods:\n",
    "\n",
    "Instance methods are defined within a class using the def keyword. The first parameter of an instance method conventionally named self refers to the instance object on which the method is called.\n",
    "\n",
    "You can call instance methods on instance objects of the class using dot notation."
   ]
  },
  {
   "cell_type": "code",
   "execution_count": 19,
   "metadata": {},
   "outputs": [
    {
     "name": "stdout",
     "output_type": "stream",
     "text": [
      "This is an instance method\n"
     ]
    }
   ],
   "source": [
    "class MyClass:\n",
    "    def my_method(self):\n",
    "        print(\"This is an instance method\")\n",
    "\n",
    "# To call an instance method, you first need to create an instance of the class\n",
    "instance = MyClass()\n",
    "instance.my_method()  # prints \"This is an instance method\"\n"
   ]
  },
  {
   "cell_type": "markdown",
   "metadata": {},
   "source": [
    "Define instance attributes: \n",
    "\n",
    "Instance attributes are defined inside an instance method (usually the __init__ method) and are prefixed with self. "
   ]
  },
  {
   "cell_type": "code",
   "execution_count": 20,
   "metadata": {},
   "outputs": [],
   "source": [
    "class MyClass:\n",
    "    def __init__(self, attribute_value):\n",
    "        self.my_attribute = attribute_value\n"
   ]
  },
  {
   "cell_type": "markdown",
   "metadata": {},
   "source": [
    "Explain the self variable and its relation to instance objects: \n",
    "\n",
    "In Python, self is a convention for the first parameter of instance methods. It’s a reference to the instance of the class, which allows you to access the instance’s attributes and other methods.\n",
    "\n",
    "Create an instance of a class: To create an instance of a class, you call the class as if it were a function. "
   ]
  },
  {
   "cell_type": "code",
   "execution_count": 21,
   "metadata": {},
   "outputs": [],
   "source": [
    "class MyClass:\n",
    "    pass\n",
    "\n",
    "instance = MyClass()  # This creates an instance of MyClass\n"
   ]
  },
  {
   "cell_type": "markdown",
   "metadata": {},
   "source": []
  },
  {
   "cell_type": "code",
   "execution_count": 22,
   "metadata": {},
   "outputs": [
    {
     "name": "stdout",
     "output_type": "stream",
     "text": [
      "Argument 1: Hello\n",
      "Argument 2: 42\n"
     ]
    }
   ],
   "source": [
    "# Define the class\n",
    "class MyClass:\n",
    "    def instance_method(self, arg1, arg2):\n",
    "        # Method implementation\n",
    "        print(\"Argument 1:\", arg1)\n",
    "        print(\"Argument 2:\", arg2)\n",
    "\n",
    "# Creating an instance object\n",
    "obj = MyClass()\n",
    "\n",
    "# Calling the instance method with actual values for arg1 and arg2\n",
    "obj.instance_method(\"Hello\", 42)\n"
   ]
  },
  {
   "cell_type": "code",
   "execution_count": 23,
   "metadata": {},
   "outputs": [
    {
     "name": "stdout",
     "output_type": "stream",
     "text": [
      "Woof! Woof!\n",
      "Please take me for a walk!\n",
      "Chasing squirrels!\n"
     ]
    }
   ],
   "source": [
    "class Dog:\n",
    "    def bark(self):\n",
    "        print(\"Woof! Woof!\")\n",
    "    \n",
    "    def beg(self):\n",
    "        print(\"Please take me for a walk!\")\n",
    "\n",
    "    def chase_squirrels(self):\n",
    "        print(\"Chasing squirrels!\")\n",
    "\n",
    "# Now, let's create an instance of the Dog class and call its instance methods\n",
    "rex = Dog()\n",
    "rex.bark()  # Output: Woof! Woof!\n",
    "rex.beg()   # Output: Please take me for a walk!\n",
    "rex.chase_squirrels()  # Output: Chasing squirrels!\n"
   ]
  },
  {
   "cell_type": "code",
   "execution_count": 27,
   "metadata": {},
   "outputs": [
    {
     "name": "stdout",
     "output_type": "stream",
     "text": [
      "ruff ruff!\n"
     ]
    }
   ],
   "source": [
    "class Dog:\n",
    "    def bark(self):\n",
    "        return 'ruff ruff!'\n",
    "\n",
    "rex = Dog()\n",
    "rex.bark = rex.bark\n",
    "\n",
    "print(rex.bark())  # Output: ruff ruff!\n"
   ]
  },
  {
   "cell_type": "code",
   "execution_count": null,
   "metadata": {},
   "outputs": [],
   "source": []
  }
 ],
 "metadata": {
  "kernelspec": {
   "display_name": "Python 3",
   "language": "python",
   "name": "python3"
  },
  "language_info": {
   "codemirror_mode": {
    "name": "ipython",
    "version": 3
   },
   "file_extension": ".py",
   "mimetype": "text/x-python",
   "name": "python",
   "nbconvert_exporter": "python",
   "pygments_lexer": "ipython3",
   "version": "3.11.2"
  }
 },
 "nbformat": 4,
 "nbformat_minor": 2
}
