{
 "cells": [
  {
   "cell_type": "markdown",
   "metadata": {},
   "source": [
    "Object Attributes - Lab"
   ]
  },
  {
   "cell_type": "markdown",
   "metadata": {},
   "source": [
    "The provided code snippet defines the Driver class with the greet_passenger() method. \n",
    "\n",
    "However, it doesn't output any result on its own. \n",
    "\n",
    "To see the result, you would need to create an instance of the Driver class and then call the greet_passenger() method on that instance."
   ]
  },
  {
   "cell_type": "code",
   "execution_count": 9,
   "metadata": {},
   "outputs": [
    {
     "name": "stdout",
     "output_type": "stream",
     "text": [
      "Hello! I'll be your driver today. My name is John Doe\n"
     ]
    }
   ],
   "source": [
    "# Define Driver Class here with properties for each instance variable\n",
    "class Driver:\n",
    "    def greet_passenger(self):\n",
    "        return f\"Hello! I'll be your driver today. My name is {self.first} {self.last}\"\n",
    "\n",
    "# Create an instance of the Driver class\n",
    "driver_instance = Driver()\n",
    "\n",
    "# Set the first and last name attributes\n",
    "driver_instance.first = \"John\"\n",
    "driver_instance.last = \"Doe\"\n",
    "\n",
    "# Call the greet_passenger() method\n",
    "result = driver_instance.greet_passenger()\n",
    "\n",
    "# Output the result\n",
    "print(result)\n"
   ]
  },
  {
   "cell_type": "code",
   "execution_count": 10,
   "metadata": {},
   "outputs": [
    {
     "name": "stdout",
     "output_type": "stream",
     "text": [
      "Hello! I'll be your driver today. My name is Matthew Mitchell\n"
     ]
    }
   ],
   "source": [
    "# Define Driver Class here with properties for each instance variable\n",
    "class Driver:\n",
    "\n",
    "# Defining the greet_passenger() method:\n",
    "    def greet_passenger(self):\n",
    "        return f\"Hello! I'll be your driver today. My name is {self.first} {self.last}\"\n",
    "\n",
    "# This method is defined inside the Driver class. \n",
    "# It takes one parameter named self, which is a reference to the instance of the class. \n",
    "# Inside the method, it returns a greeting message using string interpolation (f\"\"). \n",
    "# The message includes the first and last name of the driver accessed via the instance attributes self.first and self.last.\n",
    "\n",
    "\n",
    "# Creating an instance of the Driver class:\n",
    "daniel = Driver()\n",
    "daniel.first = \"Matthew\"\n",
    "daniel.last = \"Mitchell\"\n",
    "daniel.miles_driven = 100\n",
    "daniel.rating = 4.9\n",
    "print(daniel.greet_passenger())"
   ]
  },
  {
   "cell_type": "code",
   "execution_count": 2,
   "metadata": {},
   "outputs": [
    {
     "name": "stdout",
     "output_type": "stream",
     "text": [
      "RON BURGUNDY\n"
     ]
    }
   ],
   "source": [
    "class Passenger:\n",
    "\n",
    "    def yell_name(self):\n",
    "        return f\"{self.first.upper()} {self.last.upper()}\"\n",
    "\n",
    "ron = Passenger()\n",
    "ron.first = \"Ron\"\n",
    "ron.last = \"Burgundy\"\n",
    "print(ron.yell_name())\n"
   ]
  },
  {
   "cell_type": "code",
   "execution_count": null,
   "metadata": {},
   "outputs": [],
   "source": []
  }
 ],
 "metadata": {
  "kernelspec": {
   "display_name": "Python 3",
   "language": "python",
   "name": "python3"
  },
  "language_info": {
   "codemirror_mode": {
    "name": "ipython",
    "version": 3
   },
   "file_extension": ".py",
   "mimetype": "text/x-python",
   "name": "python",
   "nbconvert_exporter": "python",
   "pygments_lexer": "ipython3",
   "version": "3.11.2"
  }
 },
 "nbformat": 4,
 "nbformat_minor": 2
}
